{
  "nbformat": 4,
  "nbformat_minor": 0,
  "metadata": {
    "accelerator": "GPU",
    "colab": {
      "name": "anime_latest",
      "provenance": [],
      "collapsed_sections": [],
      "include_colab_link": true
    },
    "kernelspec": {
      "display_name": "Python 3",
      "name": "python3"
    }
  },
  "cells": [
    {
      "cell_type": "markdown",
      "metadata": {
        "id": "view-in-github",
        "colab_type": "text"
      },
      "source": [
        "<a href=\"https://colab.research.google.com/github/sugi-san/anime/blob/master/anime_latest.ipynb\" target=\"_parent\"><img src=\"https://colab.research.google.com/assets/colab-badge.svg\" alt=\"Open In Colab\"/></a>"
      ]
    },
    {
      "cell_type": "code",
      "metadata": {
        "id": "2LHaPHxq4YL8",
        "cellView": "form"
      },
      "source": [
        "#@title 1.マシンにソフトをインストール\n",
        "from IPython.utils import io\n",
        "import os\n",
        "import subprocess\n",
        "import tqdm.notebook\n",
        "TQDM_BAR_FORMAT = '{l_bar}{bar}| {n_fmt}/{total_fmt} [elapsed: {elapsed} remaining: {remaining}]'\n",
        "try:\n",
        "  with tqdm.notebook.tqdm(total=100, bar_format=TQDM_BAR_FORMAT) as pbar:\n",
        "    with io.capture_output() as captured:\n",
        "         # githubからコードを取得\n",
        "         %tensorflow_version 1.x\n",
        "         !git clone https://github.com/sugi-san/anime.git\n",
        "         %cd anime\n",
        "         pbar.update(100)\n",
        "except subprocess.CalledProcessError:\n",
        "  print(captured)\n",
        "  raise\n",
        "\n",
        "# imagesフォルダーを作成\n",
        "import os\n",
        "os.makedirs('images', exist_ok=True)\n",
        "\n",
        "# 画像の表示関数\n",
        "import matplotlib.pyplot as plt\n",
        "from PIL import Image\n",
        "import os\n",
        "import numpy as np\n",
        "\n",
        "def display_pic(folder):\n",
        "    fig = plt.figure(figsize=(30, 40))\n",
        "    files = os.listdir(folder)\n",
        "    files.sort()\n",
        "    for i, file in enumerate(files):\n",
        "        img = Image.open(folder+'/'+file)    \n",
        "        images = np.asarray(img)\n",
        "        ax = fig.add_subplot(10, 10, i+1, xticks=[], yticks=[])\n",
        "        image_plt = np.array(images)\n",
        "        ax.imshow(image_plt)\n",
        "        ax.set_xlabel(file, fontsize=15)               \n",
        "    plt.show()\n",
        "    plt.close()"
      ],
      "execution_count": null,
      "outputs": []
    },
    {
      "cell_type": "code",
      "metadata": {
        "cellView": "form",
        "id": "PV9yzP3MReCp"
      },
      "source": [
        "#@title 2.サンプル画像表示\n",
        "display_pic('samples')"
      ],
      "execution_count": null,
      "outputs": []
    },
    {
      "cell_type": "code",
      "metadata": {
        "id": "VkjZ0fG8RXQb",
        "cellView": "form"
      },
      "source": [
        "#@title 3.画像をアニメに変換\n",
        "import shutil\n",
        "sample = 'party5.jpg' #@param [\"food6.jpg\", \"mountain5.jpg\", \"party5.jpg\"] {allow-input: true}\n",
        "shutil.copy('samples/'+sample, 'images/'+sample)\n",
        "\n",
        "\n",
        "# images フォルダー内にある画像をアニメ画に変換し、cartoonized_images フォルダーに保存する\n",
        "from IPython.utils import io\n",
        "import os\n",
        "import subprocess\n",
        "import tqdm.notebook\n",
        "\n",
        "TQDM_BAR_FORMAT = '{l_bar}{bar}| {n_fmt}/{total_fmt} [elapsed: {elapsed} remaining: {remaining}]'\n",
        "\n",
        "try:\n",
        "  with tqdm.notebook.tqdm(total=100, bar_format=TQDM_BAR_FORMAT) as pbar:\n",
        "    with io.capture_output() as captured:\n",
        "         !python cartoonize.py\n",
        "         pbar.update(100)\n",
        "except subprocess.CalledProcessError:\n",
        "  print(captured)\n",
        "  raise\n",
        "\n",
        "#アニメを表示\n",
        "from google.colab.patches import cv2_imshow\n",
        "import cv2\n",
        "file = 'cartoonized_images/'+sample\n",
        "img = cv2.imread(file, cv2.IMREAD_UNCHANGED)\n",
        "cv2_imshow(img)"
      ],
      "execution_count": null,
      "outputs": []
    },
    {
      "cell_type": "markdown",
      "metadata": {
        "id": "yk5zdmZhUa7k"
      },
      "source": [
        "**------------- 自分の画像でやってみよう -------------**"
      ]
    },
    {
      "cell_type": "code",
      "metadata": {
        "id": "SUJnF6h0W8jx",
        "cellView": "form"
      },
      "source": [
        "#@title 4.画像のアップロード\n",
        "import os\n",
        "import shutil\n",
        "if os.path.isdir('pic'):\n",
        "     shutil.rmtree('pic')\n",
        "os.makedirs('pic', exist_ok=True)\n",
        "\n",
        "from google.colab import files\n",
        "uploaded = files.upload()\n",
        "for file in uploaded:\n",
        "  shutil.copy(file, 'pic/'+file)\n",
        "  os.remove(file)\n",
        "\n",
        "display_pic('pic')"
      ],
      "execution_count": null,
      "outputs": []
    },
    {
      "cell_type": "code",
      "metadata": {
        "id": "IFnZVlRbVcTW",
        "cellView": "form"
      },
      "source": [
        "#@title 6.画像をアニメに変換\n",
        "\n",
        "# フォルダーリセット\n",
        "import os\n",
        "import shutil\n",
        "if os.path.isdir('images'):\n",
        "    shutil.rmtree('images')\n",
        "os.makedirs('images', exist_ok=True)\n",
        "if os.path.isdir('cartoonized_images'):\n",
        "    shutil.rmtree('cartoonized_images')\n",
        "os.makedirs('cartoonized_images', exist_ok=True)\n",
        "\n",
        "# picフォルダーの指定したファイルをimagesフォルダーにコピー\n",
        "input = '31.jpg' #@param {type:\"string\"}\n",
        "shutil.copy('pic/'+input, 'images/'+input)\n",
        "\n",
        "# images フォルダー内にある画像をアニメ画に変換しcartoonized_images フォルダーに保存する\n",
        "from IPython.utils import io\n",
        "import os\n",
        "import subprocess\n",
        "import tqdm.notebook\n",
        "TQDM_BAR_FORMAT = '{l_bar}{bar}| {n_fmt}/{total_fmt} [elapsed: {elapsed} remaining: {remaining}]'\n",
        "try:\n",
        "  with tqdm.notebook.tqdm(total=100, bar_format=TQDM_BAR_FORMAT) as pbar:\n",
        "    with io.capture_output() as captured:\n",
        "         !python cartoonize.py\n",
        "         pbar.update(100)\n",
        "except subprocess.CalledProcessError:\n",
        "  print(captured)\n",
        "  raise\n",
        "\n",
        "#アニメを表示\n",
        "from google.colab.patches import cv2_imshow\n",
        "import cv2\n",
        "file = 'cartoonized_images/'+input\n",
        "img = cv2.imread(file, cv2.IMREAD_UNCHANGED)\n",
        "cv2_imshow(img)"
      ],
      "execution_count": null,
      "outputs": []
    },
    {
      "cell_type": "code",
      "metadata": {
        "id": "jEw5Xaubfl_m",
        "cellView": "form"
      },
      "source": [
        "#@title 7.画像のダウンロード\n",
        "from google.colab import files\n",
        "files.download('./cartoonized_images/'+input)"
      ],
      "execution_count": null,
      "outputs": []
    },
    {
      "cell_type": "markdown",
      "metadata": {
        "id": "1IkGf7tOlhw6"
      },
      "source": [
        "**------------ 動画でやってみよう ------------**"
      ]
    },
    {
      "cell_type": "markdown",
      "metadata": {
        "id": "_hiu1LewdJzk"
      },
      "source": [
        "**fps取得を取得してffmpegでの動画作成に適用**\\\n",
        "**動画は短編が720以下が良い（アニメに変換すると短編720になるので）**\\\n",
        "**推奨HD（1280×720）**"
      ]
    },
    {
      "cell_type": "code",
      "metadata": {
        "id": "lZzosx2T70Pc",
        "cellView": "form"
      },
      "source": [
        "#@title 8.動画をフレームにバラす\n",
        "video_name = 'kasumi1.mp4' #@param {type:\"string\"}\n",
        "video_file = 'video/'+video_name\n",
        "\n",
        "import os\n",
        "import shutil\n",
        "import cv2\n",
        "\n",
        "# flamesフォルダーリセット\n",
        "if os.path.isdir('flames'):\n",
        "    shutil.rmtree('flames')\n",
        "os.makedirs('flames', exist_ok=True)\n",
        " \n",
        "def video_2_images(video_file= video_file,   # ビデオの指定\n",
        "                   image_dir='./flames/', \n",
        "                   image_file='%s.jpg'):  \n",
        " \n",
        "    shutil.copy(video_file, 'input.mp4')  ####\n",
        "\n",
        "    # Initial setting\n",
        "    i = 0\n",
        "    interval = 1\n",
        "    length = 3000  # 最大フレーム数\n",
        "    \n",
        "    cap = cv2.VideoCapture(video_file)\n",
        "    fps = cap.get(cv2.CAP_PROP_FPS)  # fps取得\n",
        "\n",
        "    while(cap.isOpened()):\n",
        "        flag, frame = cap.read()  \n",
        "        if flag == False:  \n",
        "                break\n",
        "        if i == length*interval:\n",
        "                break\n",
        "        if i % interval == 0:    \n",
        "           cv2.imwrite(image_dir+image_file % str(int(i/interval)).zfill(6), frame)\n",
        "        i += 1 \n",
        "    cap.release()\n",
        "    return fps, i\n",
        " \n",
        "fps, i = video_2_images()\n",
        "print('fps = ', fps)\n",
        "print('flames = ', i)\n",
        " "
      ],
      "execution_count": null,
      "outputs": []
    },
    {
      "cell_type": "code",
      "metadata": {
        "id": "A6yD4qbx5X7a",
        "cellView": "form"
      },
      "source": [
        "#@title 9.フレームをアニメに変換\n",
        "# 既に cartoonized_imagesフォルダーがあれば削除\n",
        "if os.path.isdir('cartoonized_flames'):\n",
        "    shutil.rmtree('cartoonized_flames')\n",
        "\n",
        "import warnings\n",
        "warnings.simplefilter('ignore')\n",
        "\n",
        "# flames フォルダー内にある静止画をアニメ画に変換し、cartoonized_flames フォルダーに保存する\n",
        "!python cartoonize_movie.py"
      ],
      "execution_count": null,
      "outputs": []
    },
    {
      "cell_type": "markdown",
      "metadata": {
        "id": "nDN7b-YNf9jV"
      },
      "source": [
        "**ffmpegに-loglevel error オプションを付けてログ停止**\\\n",
        "**$fpsで変数の中身を指定**\\\n",
        "**変換前動画から音声を取り出し付加**"
      ]
    },
    {
      "cell_type": "code",
      "metadata": {
        "id": "MmvrC0jt76c8",
        "cellView": "form"
      },
      "source": [
        "#@title 10.アニメから動画を作成\n",
        "# リセットファイル\n",
        "if os.path.exists('./out.mp4'):\n",
        "   os.remove('./out.mp4')\n",
        "\n",
        "if os.path.exists('./input.mp3'):\n",
        "   os.remove('./input.mp3')\n",
        "\n",
        "if os.path.exists('./output.mp4'):\n",
        "   os.remove('./output.mp4')\n",
        "\n",
        "# アニメ画をmp4動画(output.mp4)に変換する\n",
        "! ffmpeg -r $fps -i cartoonized_flames/%06d.jpg -vcodec libx264 -pix_fmt yuv420p -loglevel error out.mp4\n",
        "! ffmpeg -i input.mp4 -vn -loglevel error input.mp3\n",
        "! ffmpeg -i out.mp4 -i input.mp3 -loglevel error output.mp4"
      ],
      "execution_count": null,
      "outputs": []
    },
    {
      "cell_type": "code",
      "metadata": {
        "id": "JFVFKu5Nk-Mz",
        "cellView": "form"
      },
      "source": [
        "#@title 11.動画の再生\n",
        "from IPython.display import HTML\n",
        "from base64 import b64encode\n",
        "\n",
        "mp4 = open('./output.mp4', 'rb').read()\n",
        "data_url = 'data:video/mp4;base64,' + b64encode(mp4).decode()\n",
        "HTML(f\"\"\"\n",
        "<video width=\"80%\" height=\"80%\" controls>\n",
        "      <source src=\"{data_url}\" type=\"video/mp4\">\n",
        "</video>\"\"\")"
      ],
      "execution_count": null,
      "outputs": []
    },
    {
      "cell_type": "code",
      "metadata": {
        "cellView": "form",
        "id": "O1vRJLFdbvcn"
      },
      "source": [
        "#@title 12.ビデオの縦連結\n",
        "if os.path.exists('./output_renketsu.mp4'):\n",
        "   os.remove('./output_renketsu.mp4')\n",
        "\n",
        "! ffmpeg -i out.mp4 -i input.mp4 -filter_complex \"vstack\" -loglevel error output_renketsu.mp4"
      ],
      "execution_count": null,
      "outputs": []
    },
    {
      "cell_type": "code",
      "metadata": {
        "cellView": "form",
        "id": "4_SiMBA2c7nG"
      },
      "source": [
        "#@title 13.動画の再生\n",
        "from IPython.display import HTML\n",
        "from base64 import b64encode\n",
        "\n",
        "mp4 = open('./output_renketsu.mp4', 'rb').read()\n",
        "data_url = 'data:video/mp4;base64,' + b64encode(mp4).decode()\n",
        "HTML(f\"\"\"\n",
        "<video width=\"80%\" height=\"80%\" controls>\n",
        "      <source src=\"{data_url}\" type=\"video/mp4\">\n",
        "</video>\"\"\")"
      ],
      "execution_count": null,
      "outputs": []
    }
  ]
}