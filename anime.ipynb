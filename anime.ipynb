{
  "nbformat": 4,
  "nbformat_minor": 0,
  "metadata": {
    "accelerator": "GPU",
    "colab": {
      "name": "anime",
      "provenance": [],
      "collapsed_sections": [],
      "include_colab_link": true
    },
    "kernelspec": {
      "display_name": "Python 3",
      "name": "python3"
    }
  },
  "cells": [
    {
      "cell_type": "markdown",
      "metadata": {
        "id": "view-in-github",
        "colab_type": "text"
      },
      "source": [
        "<a href=\"https://colab.research.google.com/github/sugi-san/anime/blob/master/anime.ipynb\" target=\"_parent\"><img src=\"https://colab.research.google.com/assets/colab-badge.svg\" alt=\"Open In Colab\"/></a>"
      ]
    },
    {
      "cell_type": "markdown",
      "metadata": {
        "id": "W4EnBMkLgjnO"
      },
      "source": [
        "### 1.自分のPCをマシンに接続\n",
        "**右上の接続ボタンを押す**"
      ]
    },
    {
      "cell_type": "code",
      "metadata": {
        "id": "2LHaPHxq4YL8",
        "cellView": "form"
      },
      "source": [
        "#@title 2.マシンにソフトをインストール\n",
        "%tensorflow_version 1.x\n",
        "!git clone https://github.com/sugi-san/anime.git\n",
        "%cd anime"
      ],
      "execution_count": null,
      "outputs": []
    },
    {
      "cell_type": "markdown",
      "metadata": {
        "id": "j4QDc2CC2Ksi"
      },
      "source": [
        "### 3.左のウィンドウを開く\n",
        "**左端のフォルダシンボルをクリックし、animeの先頭をクリックする**"
      ]
    },
    {
      "cell_type": "markdown",
      "metadata": {
        "id": "ffM6ux3xUCJJ"
      },
      "source": [
        "**-------------- サンプル画像でやってみよう--------------**"
      ]
    },
    {
      "cell_type": "code",
      "metadata": {
        "id": "3h5VhUDOR2Re",
        "cellView": "form"
      },
      "source": [
        "#@title 4.サンプル画像を表示\n",
        "# 画像を表示\n",
        "from google.colab.patches import cv2_imshow\n",
        "import cv2\n",
        "import glob\n",
        "\n",
        "for i in glob.glob('images/*.jpg'):\n",
        "  img = cv2.imread(i, cv2.IMREAD_UNCHANGED)\n",
        "  cv2_imshow(img)"
      ],
      "execution_count": null,
      "outputs": []
    },
    {
      "cell_type": "code",
      "metadata": {
        "id": "VkjZ0fG8RXQb",
        "cellView": "form"
      },
      "source": [
        "#@title 5.画像をアニメ画に変換\n",
        "# images フォルダー内にある画像をアニメ画に変換し、cartoonized_images フォルダーに保存する\n",
        "!python cartoonize.py"
      ],
      "execution_count": null,
      "outputs": []
    },
    {
      "cell_type": "code",
      "metadata": {
        "id": "FnUIaOipRfND",
        "cellView": "form"
      },
      "source": [
        "#@title 6.アニメ画を表示\n",
        "from google.colab.patches import cv2_imshow\n",
        "import cv2\n",
        "import glob\n",
        "\n",
        "for i in glob.glob('cartoonized_images/*.jpg'):\n",
        "  img = cv2.imread(i, cv2.IMREAD_UNCHANGED)\n",
        "  cv2_imshow(img)"
      ],
      "execution_count": null,
      "outputs": []
    },
    {
      "cell_type": "markdown",
      "metadata": {
        "id": "yk5zdmZhUa7k"
      },
      "source": [
        "**------------- 自分の画像でやってみよう -------------**"
      ]
    },
    {
      "cell_type": "code",
      "metadata": {
        "id": "IFnZVlRbVcTW",
        "cellView": "form"
      },
      "source": [
        "#@title 7.画像フォルダーリセット\n",
        "import os\n",
        "import shutil\n",
        "\n",
        "if os.path.isdir('images'):\n",
        "    shutil.rmtree('images')\n",
        "os.makedirs('images', exist_ok=True)\n",
        "\n",
        "if os.path.isdir('cartoonized_images'):\n",
        "    shutil.rmtree('cartoonized_images')\n",
        "os.makedirs('cartoonized_images', exist_ok=True)\n",
        "\n",
        "print('imagesフォルダーへ自分の画像をアップロードして下さい')"
      ],
      "execution_count": null,
      "outputs": []
    },
    {
      "cell_type": "code",
      "metadata": {
        "id": "SFoVn9RpWQlZ",
        "cellView": "form"
      },
      "source": [
        "#@title 8.画像を表示\n",
        "# 画像を表示\n",
        "from google.colab.patches import cv2_imshow\n",
        "import cv2\n",
        "import glob\n",
        "\n",
        "for i in glob.glob('images/*.jpg'):\n",
        "  img = cv2.imread(i, cv2.IMREAD_UNCHANGED)\n",
        "  cv2_imshow(img)"
      ],
      "execution_count": null,
      "outputs": []
    },
    {
      "cell_type": "code",
      "metadata": {
        "id": "yP0jdgP4UnF4",
        "cellView": "form"
      },
      "source": [
        "#@title 9.画像をアニメ画に変換\n",
        "# images フォルダー内にある画像をアニメ画に変換し、cartoonized_images フォルダーに保存する\n",
        "!python cartoonize.py"
      ],
      "execution_count": null,
      "outputs": []
    },
    {
      "cell_type": "code",
      "metadata": {
        "id": "Li1agHhTWc_U",
        "cellView": "form"
      },
      "source": [
        "#@title 10.アニメ画を表示\n",
        "# 画像を表示\n",
        "from google.colab.patches import cv2_imshow\n",
        "import cv2\n",
        "import glob\n",
        "\n",
        "for i in glob.glob('cartoonized_images/*.jpg'):\n",
        "  img = cv2.imread(i, cv2.IMREAD_UNCHANGED)\n",
        "  cv2_imshow(img)"
      ],
      "execution_count": null,
      "outputs": []
    },
    {
      "cell_type": "markdown",
      "metadata": {
        "id": "ExKKdtLi3Ikl"
      },
      "source": [
        "### 11.アニメ画のダウンロード\n",
        "**cartoonized_imagesフォルダーの該当ファイルの右端の３つの点をクリックし、ダウンロードを選択**"
      ]
    },
    {
      "cell_type": "markdown",
      "metadata": {
        "id": "1IkGf7tOlhw6"
      },
      "source": [
        "**------------ サンプル動画でやってみよう ------------**"
      ]
    },
    {
      "cell_type": "code",
      "metadata": {
        "id": "8QR8M-u6lQqL",
        "cellView": "form"
      },
      "source": [
        "#@title 12.サンプル動画を表示\n",
        "video_name = 'nakata01.mp4' \n",
        "video_file = './video/'+video_name\n",
        "\n",
        "# mp4動画の再生\n",
        "from IPython.display import HTML\n",
        "from base64 import b64encode\n",
        "\n",
        "mp4 = open(video_file, 'rb').read()\n",
        "data_url = 'data:video/mp4;base64,' + b64encode(mp4).decode()\n",
        "HTML(f\"\"\"\n",
        "<video width=\"80%\" height=\"80%\" controls>\n",
        "      <source src=\"{data_url}\" type=\"video/mp4\">\n",
        "</video>\"\"\")"
      ],
      "execution_count": null,
      "outputs": []
    },
    {
      "cell_type": "code",
      "metadata": {
        "id": "lZzosx2T70Pc",
        "cellView": "form"
      },
      "source": [
        "#@title 13.動画をフレームにバラす\n",
        "import os\n",
        "import shutil\n",
        "import cv2\n",
        "\n",
        "# 既に test_images フォルダーがあれば削除し、test_images フォルダーを作る\n",
        "if os.path.isdir('flames'):\n",
        "    shutil.rmtree('flames')\n",
        "os.makedirs('flames', exist_ok=True)\n",
        " \n",
        "def video_2_images(video_file= video_file,   # ビデオの指定\n",
        "                   image_dir='./flames/', \n",
        "                   image_file='%s.jpg'):  \n",
        " \n",
        "    shutil.copy(video_file, 'input.mp4')  ####\n",
        "\n",
        "    # Initial setting\n",
        "    i = 0\n",
        "    interval = 1\n",
        "    length = 3000  # 最大フレーム数\n",
        "    \n",
        "    cap = cv2.VideoCapture(video_file)\n",
        "    while(cap.isOpened()):\n",
        "        flag, frame = cap.read()  \n",
        "        if flag == False:  \n",
        "                break\n",
        "        if i == length*interval:\n",
        "                break\n",
        "        if i % interval == 0:    \n",
        "           cv2.imwrite(image_dir+image_file % str(int(i/interval)).zfill(6), frame)\n",
        "        i += 1 \n",
        "    cap.release()\n",
        "    print('flames_number = ',i)  \n",
        " \n",
        "def main():\n",
        "    video_2_images()\n",
        "    \n",
        "if __name__ == '__main__':\n",
        "    main()"
      ],
      "execution_count": null,
      "outputs": []
    },
    {
      "cell_type": "code",
      "metadata": {
        "id": "A6yD4qbx5X7a",
        "cellView": "form"
      },
      "source": [
        "#@title 14.フレームをアニメ画に変換\n",
        "# 既に cartoonized_imagesフォルダーがあれば削除\n",
        "if os.path.isdir('cartoonized_flames'):\n",
        "    shutil.rmtree('cartoonized_flames')\n",
        "\n",
        "# flames フォルダー内にある静止画をアニメ画に変換し、cartoonized_flames フォルダーに保存する\n",
        "!python cartoonize_movie.py"
      ],
      "execution_count": null,
      "outputs": []
    },
    {
      "cell_type": "code",
      "metadata": {
        "id": "MmvrC0jt76c8",
        "cellView": "form"
      },
      "source": [
        "#@title 15.アニメ画から動画を作成\n",
        "# リセットファイル\n",
        "if os.path.exists('./out.mp4'):\n",
        "   os.remove('./out.mp4')\n",
        "\n",
        "if os.path.exists('./input.mp3'):\n",
        "   os.remove('./imput.mp3')\n",
        "\n",
        "if os.path.exists('./output.mp4'):\n",
        "   os.remove('./output.mp4')\n",
        "\n",
        "# アニメ画をmp4動画(output.mp4)に変換する\n",
        "! ffmpeg -r 30 -i cartoonized_flames/%06d.jpg -vcodec libx264 -pix_fmt yuv420p out.mp4\n",
        "! ffmpeg -i input.mp4 -vn input.mp3\n",
        "! ffmpeg -i out.mp4 -i input.mp3 output.mp4"
      ],
      "execution_count": null,
      "outputs": []
    },
    {
      "cell_type": "code",
      "metadata": {
        "id": "JFVFKu5Nk-Mz",
        "cellView": "form"
      },
      "source": [
        "#@title 16.動画の再生\n",
        "from IPython.display import HTML\n",
        "from base64 import b64encode\n",
        "\n",
        "mp4 = open('./output.mp4', 'rb').read()\n",
        "data_url = 'data:video/mp4;base64,' + b64encode(mp4).decode()\n",
        "HTML(f\"\"\"\n",
        "<video width=\"80%\" height=\"80%\" controls>\n",
        "      <source src=\"{data_url}\" type=\"video/mp4\">\n",
        "</video>\"\"\")"
      ],
      "execution_count": null,
      "outputs": []
    },
    {
      "cell_type": "markdown",
      "metadata": {
        "id": "rJ-CGkncZdjQ"
      },
      "source": [
        "**------------- 自分の動画でやってみる --------------**"
      ]
    },
    {
      "cell_type": "markdown",
      "metadata": {
        "id": "MJD2IUzhbt8w"
      },
      "source": [
        "### 17.自分の動画をアップロード\n",
        "**videoフォルダーの右端にある３つの点をクリックし、アップロードを選択**"
      ]
    },
    {
      "cell_type": "code",
      "metadata": {
        "id": "_VecJwR4v4qf",
        "cellView": "form"
      },
      "source": [
        "#@title 18.動画の指定\n",
        "video_name = '' #@param {type:\"string\"}\n",
        "video_file = './video/'+video_name"
      ],
      "execution_count": null,
      "outputs": []
    },
    {
      "cell_type": "code",
      "metadata": {
        "id": "dwd22tG2b9kW",
        "cellView": "form"
      },
      "source": [
        "#@title 19.指定した動画の再生\n",
        "from IPython.display import HTML\n",
        "from base64 import b64encode\n",
        "\n",
        "mp4 = open(video_file, 'rb').read()\n",
        "data_url = 'data:video/mp4;base64,' + b64encode(mp4).decode()\n",
        "HTML(f\"\"\"\n",
        "<video width=\"80%\" height=\"80%\" controls>\n",
        "      <source src=\"{data_url}\" type=\"video/mp4\">\n",
        "</video>\"\"\")"
      ],
      "execution_count": null,
      "outputs": []
    },
    {
      "cell_type": "code",
      "metadata": {
        "id": "Yc8xJIRZcD-H",
        "cellView": "form"
      },
      "source": [
        "#@title 20.動画をフレームにバラす\n",
        "import os\n",
        "import shutil\n",
        "import cv2\n",
        "\n",
        "# 既に test_images フォルダーがあれば削除し、test_images フォルダーを作る\n",
        "if os.path.isdir('flames'):\n",
        "    shutil.rmtree('flames')\n",
        "os.makedirs('flames', exist_ok=True)\n",
        " \n",
        "def video_2_images(video_file= video_file,   # ビデオの指定\n",
        "                   image_dir='./flames/', \n",
        "                   image_file='%s.jpg'):  \n",
        " \n",
        "    shutil.copy(video_file, 'input.mp4')  ####\n",
        "\n",
        "    # Initial setting\n",
        "    i = 0\n",
        "    interval = 1\n",
        "    length = 3000  # 最大フレーム数\n",
        "    \n",
        "    cap = cv2.VideoCapture(video_file)\n",
        "    while(cap.isOpened()):\n",
        "        flag, frame = cap.read()  \n",
        "        if flag == False:  \n",
        "                break\n",
        "        if i == length*interval:\n",
        "                break\n",
        "        if i % interval == 0:    \n",
        "           cv2.imwrite(image_dir+image_file % str(int(i/interval)).zfill(6), frame)\n",
        "        i += 1 \n",
        "    cap.release()\n",
        "    print('flames_number = ',i)  \n",
        " \n",
        "def main():\n",
        "    video_2_images()\n",
        "    \n",
        "if __name__ == '__main__':\n",
        "    main()"
      ],
      "execution_count": null,
      "outputs": []
    },
    {
      "cell_type": "code",
      "metadata": {
        "id": "wuJv_JstcJ32",
        "cellView": "form"
      },
      "source": [
        "#@title 21.フレームをアニメ画に変換\n",
        "# 既に cartoonized_imagesフォルダーがあれば削除\n",
        "if os.path.isdir('cartoonized_flames'):\n",
        "    shutil.rmtree('cartoonized_flames')\n",
        "\n",
        "# flames フォルダー内にある静止画をアニメ画に変換し、cartoonized_flames フォルダーに保存する\n",
        "!python cartoonize_movie.py"
      ],
      "execution_count": null,
      "outputs": []
    },
    {
      "cell_type": "code",
      "metadata": {
        "id": "YX1MNT6AcNyp",
        "cellView": "form"
      },
      "source": [
        "#@title 22.アニメ画から動画を作成\n",
        "# リセットファイル\n",
        "if os.path.exists('./out.mp4'):\n",
        "   os.remove('./out.mp4')\n",
        "\n",
        "if os.path.exists('./input.mp3'):\n",
        "   os.remove('./input.mp3')\n",
        "\n",
        "if os.path.exists('./output.mp4'):\n",
        "   os.remove('./output.mp4')\n",
        "\n",
        "# アニメ画をmp4動画(output.mp4)に変換する\n",
        "! ffmpeg -r 30 -i cartoonized_flames/%06d.jpg -vcodec libx264 -pix_fmt yuv420p out.mp4\n",
        "! ffmpeg -i input.mp4 -vn input.mp3\n",
        "! ffmpeg -i out.mp4 -i input.mp3 output.mp4"
      ],
      "execution_count": null,
      "outputs": []
    },
    {
      "cell_type": "code",
      "metadata": {
        "id": "DmLJl6FLvbPx",
        "cellView": "form"
      },
      "source": [
        "#@title 23.動画の再生\n",
        "from IPython.display import HTML\n",
        "from base64 import b64encode\n",
        "\n",
        "mp4 = open('./output.mp4', 'rb').read()\n",
        "data_url = 'data:video/mp4;base64,' + b64encode(mp4).decode()\n",
        "HTML(f\"\"\"\n",
        "<video width=\"80%\" height=\"80%\" controls>\n",
        "      <source src=\"{data_url}\" type=\"video/mp4\">\n",
        "</video>\"\"\")"
      ],
      "execution_count": null,
      "outputs": []
    },
    {
      "cell_type": "markdown",
      "metadata": {
        "id": "CpqjFJKn200S"
      },
      "source": [
        "### 24.動画ダウンロード\n",
        "**output.mp4の右端の３つの点をクリックし、ダウンロードを選択**"
      ]
    }
  ]
}